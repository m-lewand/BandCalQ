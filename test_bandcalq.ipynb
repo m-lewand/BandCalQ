{
 "cells": [
  {
   "cell_type": "code",
   "execution_count": 1,
   "metadata": {},
   "outputs": [
    {
     "data": {
      "text/plain": [
       "<module 'bandcalq' from 'd:\\\\Qiskit\\\\Thesis\\\\BandCalQ\\\\BandCalQ\\\\bandcalq.py'>"
      ]
     },
     "execution_count": 1,
     "metadata": {},
     "output_type": "execute_result"
    }
   ],
   "source": [
    "import importlib\n",
    "import cmath as cmt\n",
    "import math as mt\n",
    "import numpy as np\n",
    "from qiskit.providers.basicaer import QasmSimulatorPy\n",
    "from qiskit.opflow import Z, I, X, Y\n",
    "from qiskit.circuit.library import EfficientSU2\n",
    "import bandcalq\n",
    "\n",
    "importlib.reload(bandcalq)"
   ]
  },
  {
   "cell_type": "code",
   "execution_count": 2,
   "metadata": {},
   "outputs": [
    {
     "name": "stdout",
     "output_type": "stream",
     "text": [
      "[[-0.1271517   0.00260166  0.03409385  0.16207758]\n",
      " [-0.18246094 -0.022712   -0.01777342  0.14082089]\n",
      " [-0.12743379 -0.00070403  0.0358451   0.16315428]]\n"
     ]
    }
   ],
   "source": [
    "t = np.array([[ -0.02    ,  -0.08],\n",
    "             [ -0.08    ,   0.0 ]])\n",
    "A = bandcalq.BandCalQ(2, mt.pi, t, QasmSimulatorPy())\n",
    "\n",
    "A.compute_band_structure(mt.pi, 3)\n"
   ]
  },
  {
   "cell_type": "code",
   "execution_count": 22,
   "metadata": {},
   "outputs": [
    {
     "data": {
      "text/plain": [
       "<qiskit.circuit.library.n_local.efficient_su2.EfficientSU2 at 0x2cf0cb33040>"
      ]
     },
     "execution_count": 22,
     "metadata": {},
     "output_type": "execute_result"
    }
   ],
   "source": [
    "ansatz"
   ]
  }
 ],
 "metadata": {
  "kernelspec": {
   "display_name": "Python 3.9.13 ('base')",
   "language": "python",
   "name": "python3"
  },
  "language_info": {
   "codemirror_mode": {
    "name": "ipython",
    "version": 3
   },
   "file_extension": ".py",
   "mimetype": "text/x-python",
   "name": "python",
   "nbconvert_exporter": "python",
   "pygments_lexer": "ipython3",
   "version": "3.9.13"
  },
  "orig_nbformat": 4,
  "vscode": {
   "interpreter": {
    "hash": "88279d2366fe020547cde40dd65aa0e3aa662a6ec1f3ca12d88834876c85e1a6"
   }
  }
 },
 "nbformat": 4,
 "nbformat_minor": 2
}
